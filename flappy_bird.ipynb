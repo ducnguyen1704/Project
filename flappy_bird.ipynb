{
 "cells": [
  {
   "cell_type": "markdown",
   "metadata": {},
   "source": [
    "# Chương trình lập trình game flappy bird"
   ]
  },
  {
   "cell_type": "markdown",
   "metadata": {},
   "source": [
    "## 1. Import thư viện"
   ]
  },
  {
   "cell_type": "code",
   "execution_count": 3,
   "metadata": {},
   "outputs": [
    {
     "ename": "SystemExit",
     "evalue": "",
     "output_type": "error",
     "traceback": [
      "An exception has occurred, use %tb to see the full traceback.\n",
      "\u001b[1;31mSystemExit\u001b[0m\n"
     ]
    }
   ],
   "source": [
    "# Lập trình game flappy bird\n",
    "import pygame, sys\n",
    "def draw_floor():\n",
    "    screen.blit(floor,(floor_x_pos,600)) # Hiển thị Sàn trên màn hình\n",
    "    screen.blit(floor,(floor_x_pos+432,600)) # Hiển thị Sàn thứ 2 kế tiếp sàn thứ nhất\n",
    "pygame.init()\n",
    "screen = pygame.display.set_mode((432, 768)) # Mở cửa sổ màn hình\n",
    "clock = pygame.time.Clock() # Xét FPS\n",
    "gravity = 0.25 # Thêm trọng lực.\n",
    "bird_movement = 0\n",
    "# Chèn background\n",
    "bg = pygame.image.load('assets/background-night.png').convert()\n",
    "bg = pygame.transform.scale2x(bg) # background chiếm hết khung hình của pygame\n",
    "# chèn sàn\n",
    "floor = pygame.image.load('assets/floor.png')\n",
    "floor = pygame.transform.scale2x(floor) # Sàn chiếm hết khung hình của pygame\n",
    "floor_x_pos = 0\n",
    "# chèn con chim\n",
    "bird = pygame.image.load('assets/yellowbird-midflap.png')\n",
    "bird = pygame.transform.scale2x(bird)\n",
    "bird_rect = bird.get_rect(center = (100,384)) # Con chim ở vị trí giữa, vị trí y = 1 nửa màn hình.\n",
    "while True: # Vòng lặp thực hiện trong cửa sổ.\n",
    "    for event in pygame.event.get(): # Vòng lặp sự kiện, lấy tất cả sự kiện diễn ea\n",
    "        if event.type == pygame.QUIT: # Ấn phím thoát ra ngoài\n",
    "            pygame.quit()\n",
    "            sys.exit()\n",
    "        if event.type == pygame.KEYDOWN:\n",
    "            if event.key == pygame.K_SPACE: # Ấn phím space\n",
    "                bird_movement = 0\n",
    "                bird_movement = -11\n",
    "    screen.blit(bg,(0,0)) # Hiển thị  background trên màn hình. 0, 0 ở vị trí góc trên bên trái. y tăng đi xuống.\n",
    "    bird_movement += gravity # Con chim càng di chuyển trọng lực càng tăng\n",
    "    bird_rect.centery += bird_movement # Di chuyển xuống dưới.\n",
    "    screen.blit(bird,bird_rect)\n",
    "    floor_x_pos -= 1\n",
    "    draw_floor()\n",
    "    # ĐỔi chổ vị trí 2 sàn\n",
    "    if floor_x_pos <= -432:\n",
    "        floor_x_pos = 0\n",
    "\n",
    "    pygame.display.update()\n",
    "    clock.tick(120) #FPS = 120"
   ]
  },
  {
   "cell_type": "code",
   "execution_count": 1,
   "metadata": {},
   "outputs": [
    {
     "name": "stdout",
     "output_type": "stream",
     "text": [
      "pygame 2.0.1 (SDL 2.0.14, Python 3.7.0)\n",
      "Hello from the pygame community. https://www.pygame.org/contribute.html\n"
     ]
    },
    {
     "ename": "AttributeError",
     "evalue": "'int' object has no attribute 'centerx'",
     "output_type": "error",
     "traceback": [
      "\u001b[1;31m---------------------------------------------------------------------------\u001b[0m",
      "\u001b[1;31mAttributeError\u001b[0m                            Traceback (most recent call last)",
      "\u001b[1;32m<ipython-input-1-afb90904437b>\u001b[0m in \u001b[0;36m<module>\u001b[1;34m\u001b[0m\n\u001b[0;32m     77\u001b[0m \u001b[1;33m\u001b[0m\u001b[0m\n\u001b[0;32m     78\u001b[0m     \u001b[1;31m# Ống\u001b[0m\u001b[1;33m\u001b[0m\u001b[1;33m\u001b[0m\u001b[0m\n\u001b[1;32m---> 79\u001b[1;33m     \u001b[0mpipe_list\u001b[0m \u001b[1;33m=\u001b[0m \u001b[0mmove_pipe\u001b[0m\u001b[1;33m(\u001b[0m\u001b[0mpipe_list\u001b[0m\u001b[1;33m)\u001b[0m \u001b[1;31m# Lấy ống di chuyển sau đó trả lại list mới\u001b[0m\u001b[1;33m\u001b[0m\u001b[0m\n\u001b[0m\u001b[0;32m     80\u001b[0m     \u001b[0mdraw_pipe\u001b[0m\u001b[1;33m(\u001b[0m\u001b[0mpipe_list\u001b[0m\u001b[1;33m)\u001b[0m \u001b[1;31m# Vẽ ống lên màn hình\u001b[0m\u001b[1;33m\u001b[0m\u001b[0m\n\u001b[0;32m     81\u001b[0m \u001b[1;33m\u001b[0m\u001b[0m\n",
      "\u001b[1;32m<ipython-input-1-afb90904437b>\u001b[0m in \u001b[0;36mmove_pipe\u001b[1;34m(pipes)\u001b[0m\n\u001b[0;32m     18\u001b[0m \u001b[1;32mdef\u001b[0m \u001b[0mmove_pipe\u001b[0m\u001b[1;33m(\u001b[0m\u001b[0mpipes\u001b[0m\u001b[1;33m)\u001b[0m\u001b[1;33m:\u001b[0m\u001b[1;33m\u001b[0m\u001b[0m\n\u001b[0;32m     19\u001b[0m     \u001b[1;32mfor\u001b[0m \u001b[0mpipe\u001b[0m \u001b[1;32min\u001b[0m \u001b[0mpipes\u001b[0m\u001b[1;33m:\u001b[0m\u001b[1;33m\u001b[0m\u001b[0m\n\u001b[1;32m---> 20\u001b[1;33m         \u001b[0mpipe\u001b[0m\u001b[1;33m.\u001b[0m\u001b[0mcenterx\u001b[0m \u001b[1;33m-=\u001b[0m \u001b[1;36m5\u001b[0m \u001b[1;31m# Lấy những ống đươc tạo ra di chuyển về bên trái\u001b[0m\u001b[1;33m\u001b[0m\u001b[0m\n\u001b[0m\u001b[0;32m     21\u001b[0m     \u001b[1;32mreturn\u001b[0m \u001b[0mpipes\u001b[0m\u001b[1;33m\u001b[0m\u001b[0m\n\u001b[0;32m     22\u001b[0m \u001b[1;33m\u001b[0m\u001b[0m\n",
      "\u001b[1;31mAttributeError\u001b[0m: 'int' object has no attribute 'centerx'"
     ]
    }
   ],
   "source": [
    "# Lập trình game flappy bird\n",
    "import pygame, sys, random\n",
    "# Hàm cho trò chơi\n",
    "def draw_floor():\n",
    "    screen.blit(floor,(floor_x_pos,600)) # Hiển thị Sàn trên màn hình\n",
    "    screen.blit(floor,(floor_x_pos+432,600)) # Hiển thị Sàn thứ 2 kế tiếp sàn thứ nhất\n",
    "pygame.init()\n",
    "# Hàm tạo ống\n",
    "def create_pipe():\n",
    "    random_pipe_pos = random.choice(pipe_height) # Chọn chiều cao ngẫu nhiên tạo ống\n",
    "    bottom_pipe = pipe_surface.get_rect(midtop = (500,random_pipe_pos)) # Tọa độ bằng nửa màn hình, nằm xa phía bên phải. # Tọa độ ống dưới\n",
    "    top_pipe = pipe_surface.get_rect(midtop = (500, random_pipe_pos-650))\n",
    "    return bottom_pipe\n",
    "screen = pygame.display.set_mode((432, 768)) # Mở cửa sổ màn hình\n",
    "clock = pygame.time.Clock() # Xét FPS\n",
    "\n",
    "# Hàm di chuyển ống\n",
    "def move_pipe(pipes):\n",
    "    for pipe in pipes:\n",
    "        pipe.centerx -= 5 # Lấy những ống đươc tạo ra di chuyển về bên trái\n",
    "    return pipes\n",
    "\n",
    "# Hàm  vẽ ống\n",
    "def draw_pipe(pipes):\n",
    "    for pipe in pipes:\n",
    "        if pipe.bottom >=768: # Điều kiện quay ngược ống\n",
    "            screen.blit(pipe_surface, pipe) \n",
    "        else:\n",
    "            flip_pipe = pygame.transform.flip(pipe_surface, False, True) # False là trục x, True là trục Y --> Lật ngược hình\n",
    "            screen.blit(flip_pipe,pipe)\n",
    "\n",
    "# Tạo biến cho trò chơi\n",
    "gravity = 0.25 # Thêm trọng lực.\n",
    "bird_movement = 0\n",
    "# Chèn background\n",
    "bg = pygame.image.load('assets/background-night.png').convert()\n",
    "bg = pygame.transform.scale2x(bg) # background chiếm hết khung hình của pygame\n",
    "\n",
    "# chèn sàn\n",
    "floor = pygame.image.load('assets/floor.png')\n",
    "floor = pygame.transform.scale2x(floor) # Sàn chiếm hết khung hình của pygame\n",
    "floor_x_pos = 0\n",
    "\n",
    "# chèn con chim\n",
    "bird = pygame.image.load('assets/yellowbird-midflap.png')\n",
    "bird = pygame.transform.scale2x(bird)\n",
    "bird_rect = bird.get_rect(center = (100,384)) # Con chim ở vị trí giữa, vị trí y = 1 nửa màn hình.\n",
    "# Tạo ống\n",
    "pipe_surface = pygame.image.load('assets/pipe-green.png')\n",
    "pipe_surface = pygame.transform.scale2x(pipe_surface)\n",
    "pipe_list = []\n",
    "# Tạo timer\n",
    "spawnpipe = pygame.USEREVENT\n",
    "pygame.time.set_timer(spawnpipe,1200) # Sau 1200s sẽ tạo chướng ngại vật mới\n",
    "pipe_height = [200,300,400]\n",
    "\n",
    "while True: # Vòng lặp thực hiện trong cửa sổ.\n",
    "    for event in pygame.event.get(): # Vòng lặp sự kiện, lấy tất cả sự kiện diễn ea\n",
    "        if event.type == pygame.QUIT: # Ấn phím thoát ra ngoài\n",
    "            pygame.quit()\n",
    "            sys.exit()\n",
    "\n",
    "        if event.type == pygame.KEYDOWN:\n",
    "            if event.key == pygame.K_SPACE: # Ấn phím space\n",
    "                bird_movement = 0\n",
    "                bird_movement = -11\n",
    "\n",
    "        if event.type == spawnpipe: \n",
    "            pipe_list.extend(create_pipe()) # Thêm ống vào list.\n",
    "\n",
    "\n",
    "    screen.blit(bg,(0,0)) # Hiển thị  background trên màn hình. 0, 0 ở vị trí góc trên bên trái. y tăng đi xuống.\n",
    "   # chim\n",
    "    bird_movement += gravity # Con chim càng di chuyển trọng lực càng tăng\n",
    "    bird_rect.centery += bird_movement # Di chuyển xuống dưới.\n",
    "    screen.blit(bird,bird_rect)\n",
    "    \n",
    "    # Ống\n",
    "    pipe_list = move_pipe(pipe_list) # Lấy ống di chuyển sau đó trả lại list mới\n",
    "    draw_pipe(pipe_list) # Vẽ ống lên màn hình\n",
    "\n",
    "    #Sàn\n",
    "    floor_x_pos -= 1\n",
    "    draw_floor()\n",
    "    # ĐỔi chổ vị trí 2 sàn\n",
    "    if floor_x_pos <= -432:\n",
    "        floor_x_pos = 0\n",
    "\n",
    "    pygame.display.update()\n",
    "    clock.tick(120) #FPS = 120"
   ]
  },
  {
   "cell_type": "code",
   "execution_count": null,
   "metadata": {},
   "outputs": [],
   "source": []
  }
 ],
 "metadata": {
  "interpreter": {
   "hash": "fbe69909b876abbd803d291e51ebabcdbbeff4e7f625f723ebefe76e750e4611"
  },
  "kernelspec": {
   "display_name": "Python 3.7.0 64-bit",
   "name": "python3"
  },
  "language_info": {
   "codemirror_mode": {
    "name": "ipython",
    "version": 3
   },
   "file_extension": ".py",
   "mimetype": "text/x-python",
   "name": "python",
   "nbconvert_exporter": "python",
   "pygments_lexer": "ipython3",
   "version": "3.7.0"
  },
  "orig_nbformat": 4
 },
 "nbformat": 4,
 "nbformat_minor": 2
}
